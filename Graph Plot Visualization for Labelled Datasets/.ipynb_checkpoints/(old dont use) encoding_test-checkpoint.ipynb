{
 "cells": [
  {
   "cell_type": "code",
   "execution_count": 25,
   "id": "b5d4d37b-133f-4c23-b790-ea5b00605302",
   "metadata": {},
   "outputs": [
    {
     "name": "stdout",
     "output_type": "stream",
     "text": [
      "CSV with user IDs for both 'Source' and 'Target' has been created.\n"
     ]
    }
   ],
   "source": [
    "# this code encodes each user_id to a unique integer (i.e. 1-100)\n",
    "# if the use is replying to the post/not another user, it will indicate a common encoding id\n",
    "\n",
    "import pandas as pd\n",
    "\n",
    "# Load the CSV file\n",
    "df = pd.read_csv('test_dataset.csv')\n",
    "\n",
    "# Combine 'Source' and 'Target' users, and get unique users\n",
    "all_users = pd.concat([df['comment_id'], df['parent_id']]).unique() #can add a df['post_id'] for user replying to post?\n",
    "\n",
    "# Create a DataFrame for unique users and assign an index as their user ID\n",
    "user_ids = pd.DataFrame(all_users, columns=['user'])\n",
    "user_ids['user_id'] = user_ids.index + 1  # Start IDs from 1\n",
    "\n",
    "# Merge the user IDs back into the original DataFrame for both 'Source' and 'Target'\n",
    "df_with_ids = df.merge(user_ids, left_on='comment_id', right_on='user', how='left') \\\n",
    "                .rename(columns={'user_id': 'source_id'}) \\\n",
    "                .drop(columns=['user'])  # Drop the temporary 'user' column\n",
    "                #.drop(columns=['comment_id'])\n",
    "\n",
    "df_with_ids = df_with_ids.merge(user_ids, left_on='parent_id', right_on='user', how='left') \\\n",
    "                         .rename(columns={'user_id': 'target_id'}) \\\n",
    "                         .drop(columns=['user'])  # Drop the temporary 'user' column\n",
    "                         #.drop(columns=['parent_id'])\n",
    "\n",
    "# Save the updated DataFrame to a new CSV file\n",
    "df_with_ids.to_csv('reddit_data_with_user_ids.csv', index=False)\n",
    "\n",
    "print(\"CSV with user IDs for both 'Source' and 'Target' has been created.\")\n"
   ]
  },
  {
   "cell_type": "code",
   "execution_count": null,
   "id": "e938af8d-3933-4095-884a-37ef361fb64f",
   "metadata": {},
   "outputs": [],
   "source": []
  }
 ],
 "metadata": {
  "kernelspec": {
   "display_name": "Python 3 (ipykernel)",
   "language": "python",
   "name": "python3"
  },
  "language_info": {
   "codemirror_mode": {
    "name": "ipython",
    "version": 3
   },
   "file_extension": ".py",
   "mimetype": "text/x-python",
   "name": "python",
   "nbconvert_exporter": "python",
   "pygments_lexer": "ipython3",
   "version": "3.12.4"
  }
 },
 "nbformat": 4,
 "nbformat_minor": 5
}
