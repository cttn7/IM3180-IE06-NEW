{
 "cells": [
  {
   "cell_type": "code",
   "execution_count": 1,
   "id": "de75e628-6e47-43b1-b6f9-06db4d2701e1",
   "metadata": {},
   "outputs": [
    {
     "name": "stdout",
     "output_type": "stream",
     "text": [
      "CSV with user IDs for both 'Source' and 'Target' has been created.\n"
     ]
    }
   ],
   "source": [
    "import pandas as pd\n",
    "\n",
    "# Load the CSV file\n",
    "df = pd.read_csv('tiktokcringe_dataset.csv')\n",
    "\n",
    "# Combine 'Source' and 'Target' users, and get unique users\n",
    "all_users = pd.concat([df['comment_id'], df['parent_id']]).dropna().unique()  # Drop 'None' to focus only on users\n",
    "\n",
    "# Create a DataFrame for unique users and assign an index as their user ID\n",
    "user_ids = pd.DataFrame(all_users, columns=['user'])\n",
    "user_ids['user_id'] = user_ids.index + 1  # Start IDs from 1\n",
    "\n",
    "# Add a row for the post itself (e.g., assign ID 0 for the post)\n",
    "user_ids = pd.concat([pd.DataFrame([{'user': 'post', 'user_id': 0}]), user_ids], ignore_index=True)\n",
    "\n",
    "# Replace 'None' parent_id values with 'post' to indicate replies to the post itself\n",
    "df['parent_id'] = df['parent_id'].fillna('post')\n",
    "\n",
    "# Merge the user IDs back into the original DataFrame for both 'Source' and 'Target'\n",
    "df_with_ids = df.merge(user_ids, left_on='comment_id', right_on='user', how='left') \\\n",
    "                .rename(columns={'user_id': 'source_id'}) \\\n",
    "                .drop(columns=['user'])  # Drop the temporary 'user' column\n",
    "\n",
    "df_with_ids = df_with_ids.merge(user_ids, left_on='parent_id', right_on='user', how='left') \\\n",
    "                         .rename(columns={'user_id': 'target_id'}) \\\n",
    "                         .drop(columns=['user'])  # Drop the temporary 'user' column\n",
    "\n",
    "# Save the updated DataFrame to a new CSV file\n",
    "df_with_ids.to_csv('tiktokcringe_encoded.csv', index=False)\n",
    "\n",
    "print(\"CSV with user IDs for both 'Source' and 'Target' has been created.\")\n"
   ]
  },
  {
   "cell_type": "code",
   "execution_count": null,
   "id": "2cc77ddf-003b-48f5-a53f-b040ab5cf6b8",
   "metadata": {},
   "outputs": [],
   "source": []
  }
 ],
 "metadata": {
  "kernelspec": {
   "display_name": "Python 3 (ipykernel)",
   "language": "python",
   "name": "python3"
  },
  "language_info": {
   "codemirror_mode": {
    "name": "ipython",
    "version": 3
   },
   "file_extension": ".py",
   "mimetype": "text/x-python",
   "name": "python",
   "nbconvert_exporter": "python",
   "pygments_lexer": "ipython3",
   "version": "3.12.4"
  }
 },
 "nbformat": 4,
 "nbformat_minor": 5
}
